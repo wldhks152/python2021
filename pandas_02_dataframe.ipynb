{
  "nbformat": 4,
  "nbformat_minor": 0,
  "metadata": {
    "colab": {
      "name": "pandas_02_dataframe.ipynb",
      "provenance": [],
      "collapsed_sections": [],
      "include_colab_link": true
    },
    "kernelspec": {
      "name": "python3",
      "display_name": "Python 3"
    },
    "language_info": {
      "name": "python"
    }
  },
  "cells": [
    {
      "cell_type": "markdown",
      "metadata": {
        "id": "view-in-github",
        "colab_type": "text"
      },
      "source": [
        "<a href=\"https://colab.research.google.com/github/wldhks152/python2021/blob/main/pandas_02_dataframe.ipynb\" target=\"_parent\"><img src=\"https://colab.research.google.com/assets/colab-badge.svg\" alt=\"Open In Colab\"/></a>"
      ]
    },
    {
      "cell_type": "markdown",
      "metadata": {
        "id": "c91S0nenHIgF"
      },
      "source": [
        "# **DataFrame**\n",
        "+ 2차원 자료구조인 DataFrame는 행과 열이 있는 테이블 데이터\n"
      ]
    },
    {
      "cell_type": "markdown",
      "metadata": {
        "id": "5PCO1T_6HkNU"
      },
      "source": [
        "## **pandas 라이브러리 추가**"
      ]
    },
    {
      "cell_type": "code",
      "metadata": {
        "id": "TRAkQWf2HhxB"
      },
      "source": [
        "import pandas as pd"
      ],
      "execution_count": 50,
      "outputs": []
    },
    {
      "cell_type": "code",
      "metadata": {
        "colab": {
          "base_uri": "https://localhost:8080/"
        },
        "id": "IiEoiI7zaAgo",
        "outputId": "55ad8570-a2da-4180-cfc5-98895224cc4e"
      },
      "source": [
        "from google.colab import drive\n",
        "drive.mount('/content/drive')"
      ],
      "execution_count": 51,
      "outputs": [
        {
          "output_type": "stream",
          "text": [
            "Drive already mounted at /content/drive; to attempt to forcibly remount, call drive.mount(\"/content/drive\", force_remount=True).\n"
          ],
          "name": "stdout"
        }
      ]
    },
    {
      "cell_type": "markdown",
      "metadata": {
        "id": "BApiG-yeJqIN"
      },
      "source": [
        "### 복습문제) \n",
        "다음 4개의 리스트를 이용하여 각 지역별 평균, 최대, 최소값 리스트를 값으로 가지는 딕션너라를 작성하시오.\n",
        "* 데이터참고:https://www.airkorea.or.kr/web/weekSearch?pMENU_NO=111\n",
        "```\n",
        "area = ['서울','부산','대구','인천','광주','대전','울산','세종','경기','강원','충북','충남','전북','전남','경북','경남','제주']\n",
        "pm25_avg = [20,13,15,20,19,16,14,18,20,14,19,23,23,14,15,13,14]\n",
        "pm25_max = [22,18,18,30,23,20,16,19,27,18,26,29,30,27,23,17,16]\n",
        "pm25_min = [16,10,11,12,15,12,11,17,13,9,14,19,14,10,8,9,11]\n",
        "```"
      ]
    },
    {
      "cell_type": "code",
      "metadata": {
        "id": "CIOZ77trF5l9"
      },
      "source": [
        "area = ['서울',\t'부산',\t'대구',\t'인천',\t'광주',\t'대전',\t'울산',\t'세종',\t'경기',\t'강원',\t'충북',\t'충남',\t'전북',\t'전남',\t'경북',\t'경남',\t'제주']\n",
        "pm25_avg = [20,13,15,20,19,16,14,18,20,14,19,23,23,14,15,13,14]\n",
        "pm25_max = [22,18,18,30,23,20,16,19,27,18,26,29,30,27,23,17,16]\n",
        "pm25_min = [16,10,11,12,15,12,11,17,13,9,14,19,14,10,8,9,11]"
      ],
      "execution_count": 52,
      "outputs": []
    },
    {
      "cell_type": "code",
      "metadata": {
        "colab": {
          "base_uri": "https://localhost:8080/"
        },
        "id": "Cg54DC44bk-V",
        "outputId": "93dc060a-4692-4d67-b8b2-ed4a60d28c54"
      },
      "source": [
        "print(area)"
      ],
      "execution_count": 53,
      "outputs": [
        {
          "output_type": "stream",
          "text": [
            "['서울', '부산', '대구', '인천', '광주', '대전', '울산', '세종', '경기', '강원', '충북', '충남', '전북', '전남', '경북', '경남', '제주']\n"
          ],
          "name": "stdout"
        }
      ]
    },
    {
      "cell_type": "markdown",
      "metadata": {
        "id": "gUzx35xJMkFR"
      },
      "source": [
        "## 데이터프레임으로 변환\n",
        "* **pd.DataFrame()**"
      ]
    },
    {
      "cell_type": "markdown",
      "metadata": {
        "id": "c1kVpPdfNRTZ"
      },
      "source": [
        "###  리스트를 데이터프레임으로 변환"
      ]
    },
    {
      "cell_type": "code",
      "metadata": {
        "id": "VVTw0bVSNedW",
        "colab": {
          "base_uri": "https://localhost:8080/",
          "height": 576
        },
        "outputId": "8f6b498d-9e3c-48a9-9afc-a0397885eb62"
      },
      "source": [
        "df = pd.DataFrame(area)\n",
        "df"
      ],
      "execution_count": 54,
      "outputs": [
        {
          "output_type": "execute_result",
          "data": {
            "text/html": [
              "<div>\n",
              "<style scoped>\n",
              "    .dataframe tbody tr th:only-of-type {\n",
              "        vertical-align: middle;\n",
              "    }\n",
              "\n",
              "    .dataframe tbody tr th {\n",
              "        vertical-align: top;\n",
              "    }\n",
              "\n",
              "    .dataframe thead th {\n",
              "        text-align: right;\n",
              "    }\n",
              "</style>\n",
              "<table border=\"1\" class=\"dataframe\">\n",
              "  <thead>\n",
              "    <tr style=\"text-align: right;\">\n",
              "      <th></th>\n",
              "      <th>0</th>\n",
              "    </tr>\n",
              "  </thead>\n",
              "  <tbody>\n",
              "    <tr>\n",
              "      <th>0</th>\n",
              "      <td>서울</td>\n",
              "    </tr>\n",
              "    <tr>\n",
              "      <th>1</th>\n",
              "      <td>부산</td>\n",
              "    </tr>\n",
              "    <tr>\n",
              "      <th>2</th>\n",
              "      <td>대구</td>\n",
              "    </tr>\n",
              "    <tr>\n",
              "      <th>3</th>\n",
              "      <td>인천</td>\n",
              "    </tr>\n",
              "    <tr>\n",
              "      <th>4</th>\n",
              "      <td>광주</td>\n",
              "    </tr>\n",
              "    <tr>\n",
              "      <th>5</th>\n",
              "      <td>대전</td>\n",
              "    </tr>\n",
              "    <tr>\n",
              "      <th>6</th>\n",
              "      <td>울산</td>\n",
              "    </tr>\n",
              "    <tr>\n",
              "      <th>7</th>\n",
              "      <td>세종</td>\n",
              "    </tr>\n",
              "    <tr>\n",
              "      <th>8</th>\n",
              "      <td>경기</td>\n",
              "    </tr>\n",
              "    <tr>\n",
              "      <th>9</th>\n",
              "      <td>강원</td>\n",
              "    </tr>\n",
              "    <tr>\n",
              "      <th>10</th>\n",
              "      <td>충북</td>\n",
              "    </tr>\n",
              "    <tr>\n",
              "      <th>11</th>\n",
              "      <td>충남</td>\n",
              "    </tr>\n",
              "    <tr>\n",
              "      <th>12</th>\n",
              "      <td>전북</td>\n",
              "    </tr>\n",
              "    <tr>\n",
              "      <th>13</th>\n",
              "      <td>전남</td>\n",
              "    </tr>\n",
              "    <tr>\n",
              "      <th>14</th>\n",
              "      <td>경북</td>\n",
              "    </tr>\n",
              "    <tr>\n",
              "      <th>15</th>\n",
              "      <td>경남</td>\n",
              "    </tr>\n",
              "    <tr>\n",
              "      <th>16</th>\n",
              "      <td>제주</td>\n",
              "    </tr>\n",
              "  </tbody>\n",
              "</table>\n",
              "</div>"
            ],
            "text/plain": [
              "     0\n",
              "0   서울\n",
              "1   부산\n",
              "2   대구\n",
              "3   인천\n",
              "4   광주\n",
              "5   대전\n",
              "6   울산\n",
              "7   세종\n",
              "8   경기\n",
              "9   강원\n",
              "10  충북\n",
              "11  충남\n",
              "12  전북\n",
              "13  전남\n",
              "14  경북\n",
              "15  경남\n",
              "16  제주"
            ]
          },
          "metadata": {
            "tags": []
          },
          "execution_count": 54
        }
      ]
    },
    {
      "cell_type": "code",
      "metadata": {
        "colab": {
          "base_uri": "https://localhost:8080/"
        },
        "id": "s5Cfy1NUcGOk",
        "outputId": "ba46c2fc-ec9b-4f0f-bb05-5d138e0194b0"
      },
      "source": [
        "df = pd.DataFrame(area)\n",
        "print(df, type(df))"
      ],
      "execution_count": 55,
      "outputs": [
        {
          "output_type": "stream",
          "text": [
            "     0\n",
            "0   서울\n",
            "1   부산\n",
            "2   대구\n",
            "3   인천\n",
            "4   광주\n",
            "5   대전\n",
            "6   울산\n",
            "7   세종\n",
            "8   경기\n",
            "9   강원\n",
            "10  충북\n",
            "11  충남\n",
            "12  전북\n",
            "13  전남\n",
            "14  경북\n",
            "15  경남\n",
            "16  제주 <class 'pandas.core.frame.DataFrame'>\n"
          ],
          "name": "stdout"
        }
      ]
    },
    {
      "cell_type": "code",
      "metadata": {
        "colab": {
          "base_uri": "https://localhost:8080/",
          "height": 576
        },
        "id": "r50-cQoGcnjE",
        "outputId": "3a22ba17-393b-4eb7-94b7-0b084c7ce9f3"
      },
      "source": [
        "df"
      ],
      "execution_count": 56,
      "outputs": [
        {
          "output_type": "execute_result",
          "data": {
            "text/html": [
              "<div>\n",
              "<style scoped>\n",
              "    .dataframe tbody tr th:only-of-type {\n",
              "        vertical-align: middle;\n",
              "    }\n",
              "\n",
              "    .dataframe tbody tr th {\n",
              "        vertical-align: top;\n",
              "    }\n",
              "\n",
              "    .dataframe thead th {\n",
              "        text-align: right;\n",
              "    }\n",
              "</style>\n",
              "<table border=\"1\" class=\"dataframe\">\n",
              "  <thead>\n",
              "    <tr style=\"text-align: right;\">\n",
              "      <th></th>\n",
              "      <th>0</th>\n",
              "    </tr>\n",
              "  </thead>\n",
              "  <tbody>\n",
              "    <tr>\n",
              "      <th>0</th>\n",
              "      <td>서울</td>\n",
              "    </tr>\n",
              "    <tr>\n",
              "      <th>1</th>\n",
              "      <td>부산</td>\n",
              "    </tr>\n",
              "    <tr>\n",
              "      <th>2</th>\n",
              "      <td>대구</td>\n",
              "    </tr>\n",
              "    <tr>\n",
              "      <th>3</th>\n",
              "      <td>인천</td>\n",
              "    </tr>\n",
              "    <tr>\n",
              "      <th>4</th>\n",
              "      <td>광주</td>\n",
              "    </tr>\n",
              "    <tr>\n",
              "      <th>5</th>\n",
              "      <td>대전</td>\n",
              "    </tr>\n",
              "    <tr>\n",
              "      <th>6</th>\n",
              "      <td>울산</td>\n",
              "    </tr>\n",
              "    <tr>\n",
              "      <th>7</th>\n",
              "      <td>세종</td>\n",
              "    </tr>\n",
              "    <tr>\n",
              "      <th>8</th>\n",
              "      <td>경기</td>\n",
              "    </tr>\n",
              "    <tr>\n",
              "      <th>9</th>\n",
              "      <td>강원</td>\n",
              "    </tr>\n",
              "    <tr>\n",
              "      <th>10</th>\n",
              "      <td>충북</td>\n",
              "    </tr>\n",
              "    <tr>\n",
              "      <th>11</th>\n",
              "      <td>충남</td>\n",
              "    </tr>\n",
              "    <tr>\n",
              "      <th>12</th>\n",
              "      <td>전북</td>\n",
              "    </tr>\n",
              "    <tr>\n",
              "      <th>13</th>\n",
              "      <td>전남</td>\n",
              "    </tr>\n",
              "    <tr>\n",
              "      <th>14</th>\n",
              "      <td>경북</td>\n",
              "    </tr>\n",
              "    <tr>\n",
              "      <th>15</th>\n",
              "      <td>경남</td>\n",
              "    </tr>\n",
              "    <tr>\n",
              "      <th>16</th>\n",
              "      <td>제주</td>\n",
              "    </tr>\n",
              "  </tbody>\n",
              "</table>\n",
              "</div>"
            ],
            "text/plain": [
              "     0\n",
              "0   서울\n",
              "1   부산\n",
              "2   대구\n",
              "3   인천\n",
              "4   광주\n",
              "5   대전\n",
              "6   울산\n",
              "7   세종\n",
              "8   경기\n",
              "9   강원\n",
              "10  충북\n",
              "11  충남\n",
              "12  전북\n",
              "13  전남\n",
              "14  경북\n",
              "15  경남\n",
              "16  제주"
            ]
          },
          "metadata": {
            "tags": []
          },
          "execution_count": 56
        }
      ]
    },
    {
      "cell_type": "code",
      "metadata": {
        "colab": {
          "base_uri": "https://localhost:8080/",
          "height": 576
        },
        "id": "RatpDe6QdA8-",
        "outputId": "8c7e405f-0ff9-45eb-c26d-85af803be932"
      },
      "source": [
        "df['평균'] = pm25_avg\n",
        "df['최대'] = pm25_max\n",
        "df['최소'] = pm25_min\n",
        "df"
      ],
      "execution_count": 57,
      "outputs": [
        {
          "output_type": "execute_result",
          "data": {
            "text/html": [
              "<div>\n",
              "<style scoped>\n",
              "    .dataframe tbody tr th:only-of-type {\n",
              "        vertical-align: middle;\n",
              "    }\n",
              "\n",
              "    .dataframe tbody tr th {\n",
              "        vertical-align: top;\n",
              "    }\n",
              "\n",
              "    .dataframe thead th {\n",
              "        text-align: right;\n",
              "    }\n",
              "</style>\n",
              "<table border=\"1\" class=\"dataframe\">\n",
              "  <thead>\n",
              "    <tr style=\"text-align: right;\">\n",
              "      <th></th>\n",
              "      <th>0</th>\n",
              "      <th>평균</th>\n",
              "      <th>최대</th>\n",
              "      <th>최소</th>\n",
              "    </tr>\n",
              "  </thead>\n",
              "  <tbody>\n",
              "    <tr>\n",
              "      <th>0</th>\n",
              "      <td>서울</td>\n",
              "      <td>20</td>\n",
              "      <td>22</td>\n",
              "      <td>16</td>\n",
              "    </tr>\n",
              "    <tr>\n",
              "      <th>1</th>\n",
              "      <td>부산</td>\n",
              "      <td>13</td>\n",
              "      <td>18</td>\n",
              "      <td>10</td>\n",
              "    </tr>\n",
              "    <tr>\n",
              "      <th>2</th>\n",
              "      <td>대구</td>\n",
              "      <td>15</td>\n",
              "      <td>18</td>\n",
              "      <td>11</td>\n",
              "    </tr>\n",
              "    <tr>\n",
              "      <th>3</th>\n",
              "      <td>인천</td>\n",
              "      <td>20</td>\n",
              "      <td>30</td>\n",
              "      <td>12</td>\n",
              "    </tr>\n",
              "    <tr>\n",
              "      <th>4</th>\n",
              "      <td>광주</td>\n",
              "      <td>19</td>\n",
              "      <td>23</td>\n",
              "      <td>15</td>\n",
              "    </tr>\n",
              "    <tr>\n",
              "      <th>5</th>\n",
              "      <td>대전</td>\n",
              "      <td>16</td>\n",
              "      <td>20</td>\n",
              "      <td>12</td>\n",
              "    </tr>\n",
              "    <tr>\n",
              "      <th>6</th>\n",
              "      <td>울산</td>\n",
              "      <td>14</td>\n",
              "      <td>16</td>\n",
              "      <td>11</td>\n",
              "    </tr>\n",
              "    <tr>\n",
              "      <th>7</th>\n",
              "      <td>세종</td>\n",
              "      <td>18</td>\n",
              "      <td>19</td>\n",
              "      <td>17</td>\n",
              "    </tr>\n",
              "    <tr>\n",
              "      <th>8</th>\n",
              "      <td>경기</td>\n",
              "      <td>20</td>\n",
              "      <td>27</td>\n",
              "      <td>13</td>\n",
              "    </tr>\n",
              "    <tr>\n",
              "      <th>9</th>\n",
              "      <td>강원</td>\n",
              "      <td>14</td>\n",
              "      <td>18</td>\n",
              "      <td>9</td>\n",
              "    </tr>\n",
              "    <tr>\n",
              "      <th>10</th>\n",
              "      <td>충북</td>\n",
              "      <td>19</td>\n",
              "      <td>26</td>\n",
              "      <td>14</td>\n",
              "    </tr>\n",
              "    <tr>\n",
              "      <th>11</th>\n",
              "      <td>충남</td>\n",
              "      <td>23</td>\n",
              "      <td>29</td>\n",
              "      <td>19</td>\n",
              "    </tr>\n",
              "    <tr>\n",
              "      <th>12</th>\n",
              "      <td>전북</td>\n",
              "      <td>23</td>\n",
              "      <td>30</td>\n",
              "      <td>14</td>\n",
              "    </tr>\n",
              "    <tr>\n",
              "      <th>13</th>\n",
              "      <td>전남</td>\n",
              "      <td>14</td>\n",
              "      <td>27</td>\n",
              "      <td>10</td>\n",
              "    </tr>\n",
              "    <tr>\n",
              "      <th>14</th>\n",
              "      <td>경북</td>\n",
              "      <td>15</td>\n",
              "      <td>23</td>\n",
              "      <td>8</td>\n",
              "    </tr>\n",
              "    <tr>\n",
              "      <th>15</th>\n",
              "      <td>경남</td>\n",
              "      <td>13</td>\n",
              "      <td>17</td>\n",
              "      <td>9</td>\n",
              "    </tr>\n",
              "    <tr>\n",
              "      <th>16</th>\n",
              "      <td>제주</td>\n",
              "      <td>14</td>\n",
              "      <td>16</td>\n",
              "      <td>11</td>\n",
              "    </tr>\n",
              "  </tbody>\n",
              "</table>\n",
              "</div>"
            ],
            "text/plain": [
              "     0  평균  최대  최소\n",
              "0   서울  20  22  16\n",
              "1   부산  13  18  10\n",
              "2   대구  15  18  11\n",
              "3   인천  20  30  12\n",
              "4   광주  19  23  15\n",
              "5   대전  16  20  12\n",
              "6   울산  14  16  11\n",
              "7   세종  18  19  17\n",
              "8   경기  20  27  13\n",
              "9   강원  14  18   9\n",
              "10  충북  19  26  14\n",
              "11  충남  23  29  19\n",
              "12  전북  23  30  14\n",
              "13  전남  14  27  10\n",
              "14  경북  15  23   8\n",
              "15  경남  13  17   9\n",
              "16  제주  14  16  11"
            ]
          },
          "metadata": {
            "tags": []
          },
          "execution_count": 57
        }
      ]
    },
    {
      "cell_type": "markdown",
      "metadata": {
        "id": "CR5LSrBWNMD0"
      },
      "source": [
        "### 딕션너리를 데이터프레임으로 변환\n",
        "* 딕션너리 키 : 열(column)\n",
        "* 딕션너리 값 : 행(row)"
      ]
    },
    {
      "cell_type": "code",
      "metadata": {
        "id": "y1UZnc4gMjNV",
        "colab": {
          "base_uri": "https://localhost:8080/",
          "height": 190
        },
        "outputId": "b8291e7f-7917-4593-891f-033af4887c9c"
      },
      "source": [
        "df = pd.DataFrame(dt)\n",
        "df"
      ],
      "execution_count": 58,
      "outputs": [
        {
          "output_type": "error",
          "ename": "NameError",
          "evalue": "ignored",
          "traceback": [
            "\u001b[0;31m---------------------------------------------------------------------------\u001b[0m",
            "\u001b[0;31mNameError\u001b[0m                                 Traceback (most recent call last)",
            "\u001b[0;32m<ipython-input-58-6fc7895b4be1>\u001b[0m in \u001b[0;36m<module>\u001b[0;34m()\u001b[0m\n\u001b[0;32m----> 1\u001b[0;31m \u001b[0mdf\u001b[0m \u001b[0;34m=\u001b[0m \u001b[0mpd\u001b[0m\u001b[0;34m.\u001b[0m\u001b[0mDataFrame\u001b[0m\u001b[0;34m(\u001b[0m\u001b[0mdt\u001b[0m\u001b[0;34m)\u001b[0m\u001b[0;34m\u001b[0m\u001b[0;34m\u001b[0m\u001b[0m\n\u001b[0m\u001b[1;32m      2\u001b[0m \u001b[0mdf\u001b[0m\u001b[0;34m\u001b[0m\u001b[0;34m\u001b[0m\u001b[0m\n",
            "\u001b[0;31mNameError\u001b[0m: name 'dt' is not defined"
          ]
        }
      ]
    },
    {
      "cell_type": "code",
      "metadata": {
        "id": "NQ-xNDueoZsm"
      },
      "source": [
        "df = pd.DataFrame()\n",
        "df['area'] = area\n",
        "df['avg'] = pm25_avg\n",
        "df['max'] = pm25_max\n",
        "df['min'] = pm25_min\n",
        "df"
      ],
      "execution_count": null,
      "outputs": []
    },
    {
      "cell_type": "code",
      "metadata": {
        "id": "Jp7XBE-NdxRF"
      },
      "source": [
        "temp = list(zip(area.pm25_avg, area.pm25_max,area.pm25_min)\n",
        "df2 = pd.DataFrame(temp)"
      ],
      "execution_count": null,
      "outputs": []
    },
    {
      "cell_type": "code",
      "metadata": {
        "id": "sZorXYsOpO6p"
      },
      "source": [
        "dtz = list(zip(area,pm25_avg,pm25_max,pm25_min ))\n",
        "\n",
        "df = pd.DataFrame(dtz)\n",
        "df.columns = ['area', 'avg', 'max', 'min']\n",
        "df"
      ],
      "execution_count": null,
      "outputs": []
    },
    {
      "cell_type": "markdown",
      "metadata": {
        "id": "JS_gxUnAOHSE"
      },
      "source": [
        "## 외부 데이터 가져오기\n",
        "+ csv 읽기\n",
        " - 한글 파일명을 사용할 경우 : df = pd.read_csv(‘파일명‘, engine='python')\n",
        " - 파일 내용 한글이 깨지는 경우 : df = pd.read_csv(‘파일명‘, engine='python', encoding='cp949')\n",
        ">\n",
        "```\n",
        "df = pd.read_csv(‘파일명‘)\n",
        "```\n",
        "\n",
        "+ 엑셀 읽기\n",
        " - 한글 파일명을 사용할 경우 : df = pd.read_excel(‘파일명‘)\n",
        ">\n",
        "```\n",
        "df = pd.pd.read_excel(‘파일명‘)\n",
        "```"
      ]
    },
    {
      "cell_type": "code",
      "metadata": {
        "id": "rgf7xNS2Owfw"
      },
      "source": [
        "#지역별주간별_초미세먼지.csv 가져오기 \n",
        "df = pd.read_csv('/content/drive/MyDrive/파이썬특강/python2021/data/지역별주간별_초미세먼지.csv',engine='python', encoding='cp949')\n",
        "df"
      ],
      "execution_count": null,
      "outputs": []
    },
    {
      "cell_type": "markdown",
      "metadata": {
        "id": "2UfN4l5eRHfr"
      },
      "source": [
        "## 데이터프레임(DataFrame) 살펴보기\n",
        "* 데이터프레임의 정보 : **df.info()**\n",
        " - 데이터프레임에 대한 전반적인 정보\n",
        " - 데이터프레임을 구성하는 행과 열의 크기, 컬럼명, 컬럼을 구성하는 값의 자료형 등을 출력\n",
        "+ 데이터프레임의 크기 확인 : **df.shape 속성**\n",
        " - (행, 열) 크기를 확인하기\n",
        " - 행의 개수 : len(데이터프레임), len(.index), .shape[0]\n",
        " - 열의 개수 : len(.column), .shape[1]\n",
        "+ 데이터프레임의 원소의 총개수 : **df.size 속성**\n",
        "+ 데이터프레임 개수 확인 :**df.count()**\n",
        " - Null이 아닌 행의 개수 확인\n",
        " - axis='columns' : Null이 아닌 열의 개수 확인\n",
        "* 데이터프레임의 인덱스 \n",
        " + 열의 인덱스 : **df.colums**\n",
        " + 행의 인덱스 : **df.index**\n",
        " + **데이터프레임의 인덱스 변경**\n",
        "   - 열인덱스 명 변경 : df.column = [열명인덱스]\n",
        "   - 열항목 중 하나를 인덱스로 사용 : df.set_index(열명)\n",
        "   - 인덱스를 일반 데이터 열로 전환 : df.reset_index()"
      ]
    },
    {
      "cell_type": "code",
      "metadata": {
        "id": "RPDi18n9SGRu"
      },
      "source": [
        "#데이터프레임의 정보\n",
        "df.info()"
      ],
      "execution_count": null,
      "outputs": []
    },
    {
      "cell_type": "code",
      "metadata": {
        "id": "Uxpw_P7pk7ew"
      },
      "source": [
        "df.columns"
      ],
      "execution_count": null,
      "outputs": []
    },
    {
      "cell_type": "code",
      "metadata": {
        "id": "6TsNgT0b3Js7"
      },
      "source": [
        "#데이터프레임의 크기 확인\n",
        "print('데이터프레임 (행, 열) : ', df.shape)\n",
        "print('데이터프레임 행 개수 len : ', len(df) )\n",
        "print('데이터프레임 행 개수 len : ', len(df.index) )\n",
        "print('데이터프레임 행 개수 shape : ', df.shape[0] )\n",
        "print('데이터프레임 열 개수 len : ', len(df.columns) )\n",
        "print('데이터프레임 열 개수 shape : ', df.shape[1] )"
      ],
      "execution_count": null,
      "outputs": []
    },
    {
      "cell_type": "code",
      "metadata": {
        "id": "x820CTxf7sUS"
      },
      "source": [
        "#데이터프레임 각 열의개수 확인\n",
        "print(df.count())\n",
        "print('-'*20)\n",
        "print(df.count(axis='columns'))"
      ],
      "execution_count": null,
      "outputs": []
    },
    {
      "cell_type": "code",
      "metadata": {
        "id": "-_PcsEFSDcsV"
      },
      "source": [
        "#데이터프레임의 원소의 총개수\n",
        "print(df.size)"
      ],
      "execution_count": null,
      "outputs": []
    },
    {
      "cell_type": "code",
      "metadata": {
        "id": "1VWiVWQ_SQtl"
      },
      "source": [
        "#데이터프레임의 인덱스\n",
        "print('열인덱스 : ', df.columns)\n",
        "print('행인덱스 :', df.index)"
      ],
      "execution_count": null,
      "outputs": []
    },
    {
      "cell_type": "code",
      "metadata": {
        "id": "DxsgZnmASZ-V"
      },
      "source": [
        "#열명의 공백 제거 \n",
        "df.columns = [item.strip() for item in df.columns]\n",
        "df.columns"
      ],
      "execution_count": null,
      "outputs": []
    },
    {
      "cell_type": "code",
      "metadata": {
        "id": "pU5aGcSImtVF"
      },
      "source": [
        "df.head()"
      ],
      "execution_count": null,
      "outputs": []
    },
    {
      "cell_type": "code",
      "metadata": {
        "id": "a3Tn1O9Wmd34"
      },
      "source": [
        "df['최고값']"
      ],
      "execution_count": null,
      "outputs": []
    },
    {
      "cell_type": "code",
      "metadata": {
        "id": "SI96LxJ1UTrM"
      },
      "source": [
        "#지역 컬럼을 행 인덱스로 지정\n",
        "df = df.set_index('지역')\n",
        "df"
      ],
      "execution_count": null,
      "outputs": []
    },
    {
      "cell_type": "code",
      "metadata": {
        "id": "DBDYdzwrnJpC"
      },
      "source": [
        "df.index"
      ],
      "execution_count": null,
      "outputs": []
    },
    {
      "cell_type": "code",
      "metadata": {
        "id": "4lb34DSsUm_8"
      },
      "source": [
        "#인덱스를 일반 데이터 열로 전환\n",
        "df = df.reset_index()\n",
        "df"
      ],
      "execution_count": null,
      "outputs": []
    },
    {
      "cell_type": "markdown",
      "metadata": {
        "id": "UO8Dw3XWxi97"
      },
      "source": [
        "## **데이터프레임 인덱싱(indexing)과 슬라이싱(slicing)**\n"
      ]
    },
    {
      "cell_type": "code",
      "metadata": {
        "id": "kDu43olQ6-t_"
      },
      "source": [
        "df = df.set_index('지역')\n",
        "df.head()"
      ],
      "execution_count": null,
      "outputs": []
    },
    {
      "cell_type": "markdown",
      "metadata": {
        "id": "Cj62A7iA2MuH"
      },
      "source": [
        "### df[]\n",
        " + 특정 열 가져오기 : df[열인덱스], df[열인덱스 리스트]\n",
        " + 특정 행 가져오기 : df[시작행인덱스:종료행인덱스]  "
      ]
    },
    {
      "cell_type": "code",
      "metadata": {
        "id": "ankjwfF8oXTS"
      },
      "source": [
        "df.columns"
      ],
      "execution_count": null,
      "outputs": []
    },
    {
      "cell_type": "code",
      "metadata": {
        "id": "y7CwJ-BjzTDe"
      },
      "source": [
        "#특정 열 가져오기\n",
        "df[['주간평균']]"
      ],
      "execution_count": null,
      "outputs": []
    },
    {
      "cell_type": "code",
      "metadata": {
        "id": "xCoa2WpIzZAn"
      },
      "source": [
        "df[['주간평균','최고값']]"
      ],
      "execution_count": null,
      "outputs": []
    },
    {
      "cell_type": "code",
      "metadata": {
        "id": "FPwmBkAJo3Ue"
      },
      "source": [
        "df[['부산']]"
      ],
      "execution_count": null,
      "outputs": []
    },
    {
      "cell_type": "code",
      "metadata": {
        "id": "Wm0TBqD42hKZ"
      },
      "source": [
        "#특정행 가져오기\n",
        "df['부산':'인천']"
      ],
      "execution_count": null,
      "outputs": []
    },
    {
      "cell_type": "markdown",
      "metadata": {
        "id": "OQkafCZj21TB"
      },
      "source": [
        "### df.loc[행인덱스, 열인덱스]\n",
        "* 특정 열 가져오기 : df.loc[:, 열인덱스]\n",
        "* 특정 행 가져오기 : df.loc[행인덱스, :]\n",
        "* 특정 항목 가져오기 : df.loc[행인덱스, 열인덱스]"
      ]
    },
    {
      "cell_type": "code",
      "metadata": {
        "id": "E81_TjadpYkU"
      },
      "source": [
        "df.head()"
      ],
      "execution_count": null,
      "outputs": []
    },
    {
      "cell_type": "code",
      "metadata": {
        "id": "7GgFehhfpbQJ"
      },
      "source": [
        "df[['최저값']]"
      ],
      "execution_count": null,
      "outputs": []
    },
    {
      "cell_type": "code",
      "metadata": {
        "id": "ur3fWQue4mkE"
      },
      "source": [
        "#특정 열 가져오기\n",
        "df.loc[:'대구', :'최저값'] "
      ],
      "execution_count": null,
      "outputs": []
    },
    {
      "cell_type": "code",
      "metadata": {
        "id": "pTfKZPju4s8N"
      },
      "source": [
        "df.loc[:, ['주간평균', '최저값']]"
      ],
      "execution_count": null,
      "outputs": []
    },
    {
      "cell_type": "code",
      "metadata": {
        "id": "4LCD_xQ340Ai"
      },
      "source": [
        "df.loc[:, '주간평균':'최저값']"
      ],
      "execution_count": null,
      "outputs": []
    },
    {
      "cell_type": "code",
      "metadata": {
        "id": "PvhrPBZp49jO"
      },
      "source": [
        "#특정 행 가져오기\n",
        "df.loc['부산',:]"
      ],
      "execution_count": null,
      "outputs": []
    },
    {
      "cell_type": "code",
      "metadata": {
        "id": "XAy3Zu3G5Pj3"
      },
      "source": [
        "df.loc[['부산', '인천'], :]"
      ],
      "execution_count": null,
      "outputs": []
    },
    {
      "cell_type": "code",
      "metadata": {
        "id": "fvfrg_sp5DjV"
      },
      "source": [
        "df.loc['부산':'인천', :]"
      ],
      "execution_count": null,
      "outputs": []
    },
    {
      "cell_type": "code",
      "metadata": {
        "id": "JaH23lSz5U1q"
      },
      "source": [
        "#특정 항목 가져오기\n",
        "df.loc['부산', '주간평균']"
      ],
      "execution_count": null,
      "outputs": []
    },
    {
      "cell_type": "code",
      "metadata": {
        "id": "JzZvoYtp5d_X"
      },
      "source": [
        "df.loc[['부산','인천'],['주간평균', '최저값']]"
      ],
      "execution_count": null,
      "outputs": []
    },
    {
      "cell_type": "code",
      "metadata": {
        "id": "_Ec3ZWyu5kVA"
      },
      "source": [
        "df.loc['부산':'인천','주간평균':'최저값']"
      ],
      "execution_count": null,
      "outputs": []
    },
    {
      "cell_type": "code",
      "metadata": {
        "id": "qFDnME7LqRBD"
      },
      "source": [
        "df.loc[['울산'],['주간평균', '최고값']]"
      ],
      "execution_count": null,
      "outputs": []
    },
    {
      "cell_type": "markdown",
      "metadata": {
        "id": "9vn-EO9V58vy"
      },
      "source": [
        "### df.iloc[행인덱스순서, 열인덱스순서]\n",
        "* 특정 열 가져오기 : df.loc[:, 열인덱스순서]\n",
        "* 특정 행 가져오기 : df.loc[행인덱스순서, :]\n",
        "* 특정 항목 가져오기 : df.loc[행인덱스순서, 열인덱스순서]"
      ]
    },
    {
      "cell_type": "code",
      "metadata": {
        "id": "gO8u92nq6Wwe"
      },
      "source": [
        "#특정 열 가져오기\n",
        "#df.loc[:, '최저값'] \n",
        "df.iloc[:, 2]"
      ],
      "execution_count": null,
      "outputs": []
    },
    {
      "cell_type": "code",
      "metadata": {
        "id": "JLqavk_Q6dSJ"
      },
      "source": [
        "#df.loc[:, ['주간평균', '최저값']]\n",
        "df.iloc[:, [0, 2]]"
      ],
      "execution_count": null,
      "outputs": []
    },
    {
      "cell_type": "code",
      "metadata": {
        "id": "hiV1UrDQ6lNJ"
      },
      "source": [
        "#df.loc[:, '주간평균':'최저값']\n",
        "df.iloc[:, 0:2]"
      ],
      "execution_count": null,
      "outputs": []
    },
    {
      "cell_type": "code",
      "metadata": {
        "id": "0eKovdGO6xxy"
      },
      "source": [
        "#특정 행 가져오기\n",
        "#df.loc['부산',:]\n",
        "df.iloc[1,:]"
      ],
      "execution_count": null,
      "outputs": []
    },
    {
      "cell_type": "code",
      "metadata": {
        "id": "fQt4kZCR63yx"
      },
      "source": [
        "#df.loc[['부산', '인천'], :]\n",
        "df.iloc[[1, 3], :]"
      ],
      "execution_count": null,
      "outputs": []
    },
    {
      "cell_type": "code",
      "metadata": {
        "id": "8sSgV4QzAGZS"
      },
      "source": [
        "#df.loc['부산':'인천', :]\n",
        "df.iloc[1:4, :]"
      ],
      "execution_count": null,
      "outputs": []
    },
    {
      "cell_type": "code",
      "metadata": {
        "id": "xweF6XzvAIVR"
      },
      "source": [
        "#특정 항목 가져오기\n",
        "#df.loc['부산', '주간평균']\n",
        "df.iloc[1, 0]"
      ],
      "execution_count": null,
      "outputs": []
    },
    {
      "cell_type": "code",
      "metadata": {
        "id": "nhAX9CKmAJ0N"
      },
      "source": [
        "#df.loc[['부산','인천'],['주간평균', '최저값']]\n",
        "df.iloc[[0,3],[0, 2]]"
      ],
      "execution_count": null,
      "outputs": []
    },
    {
      "cell_type": "code",
      "metadata": {
        "id": "V-HoJIUAAMm-"
      },
      "source": [
        "#df.loc['부산':'인천','주간평균':'최저값']\n",
        "df.iloc[1:4,0:3]"
      ],
      "execution_count": null,
      "outputs": []
    },
    {
      "cell_type": "markdown",
      "metadata": {
        "id": "vvpKts0-Bd-U"
      },
      "source": [
        "## **데이터프레임(DataFrame) 기본 조회와 기초 통계 메소드**\n",
        "* head(n) : 상위 n개 조회, n생략 시 5개 조회\n",
        "+ tail(n) : 하위 n개 조회, n생략 시 5개 조회\n",
        "+ describe() : 요약 통계량 계산\n",
        "+ mean() : 평균\n",
        "+ max() : 최대\n",
        "+ min() : 최소\n",
        "+ std()  : 표준편차"
      ]
    },
    {
      "cell_type": "code",
      "metadata": {
        "id": "Xl1QlqoKCdag"
      },
      "source": [
        "df.head(2)"
      ],
      "execution_count": null,
      "outputs": []
    },
    {
      "cell_type": "code",
      "metadata": {
        "id": "bSbGKI_8CdYN"
      },
      "source": [
        "df.tail(2)"
      ],
      "execution_count": null,
      "outputs": []
    },
    {
      "cell_type": "code",
      "metadata": {
        "id": "AFi0th9aCsbf"
      },
      "source": [
        "df.describe()"
      ],
      "execution_count": null,
      "outputs": []
    },
    {
      "cell_type": "markdown",
      "metadata": {
        "id": "H_xl7uLIEn_c"
      },
      "source": [
        "## 자주사용되는 메소드\n"
      ]
    },
    {
      "cell_type": "markdown",
      "metadata": {
        "id": "w6drZtA7rbMk"
      },
      "source": [
        "### 행열 전환 : df.T\n"
      ]
    },
    {
      "cell_type": "code",
      "metadata": {
        "id": "7sooCeH0rAtu",
        "colab": {
          "base_uri": "https://localhost:8080/",
          "height": 173
        },
        "outputId": "b8f18af3-08a2-4379-e90c-92df82f6ceaf"
      },
      "source": [
        "df2 = df.T\n",
        "df2"
      ],
      "execution_count": 60,
      "outputs": [
        {
          "output_type": "execute_result",
          "data": {
            "text/html": [
              "<div>\n",
              "<style scoped>\n",
              "    .dataframe tbody tr th:only-of-type {\n",
              "        vertical-align: middle;\n",
              "    }\n",
              "\n",
              "    .dataframe tbody tr th {\n",
              "        vertical-align: top;\n",
              "    }\n",
              "\n",
              "    .dataframe thead th {\n",
              "        text-align: right;\n",
              "    }\n",
              "</style>\n",
              "<table border=\"1\" class=\"dataframe\">\n",
              "  <thead>\n",
              "    <tr style=\"text-align: right;\">\n",
              "      <th></th>\n",
              "      <th>0</th>\n",
              "      <th>1</th>\n",
              "      <th>2</th>\n",
              "      <th>3</th>\n",
              "      <th>4</th>\n",
              "      <th>5</th>\n",
              "      <th>6</th>\n",
              "      <th>7</th>\n",
              "      <th>8</th>\n",
              "      <th>9</th>\n",
              "      <th>10</th>\n",
              "      <th>11</th>\n",
              "      <th>12</th>\n",
              "      <th>13</th>\n",
              "      <th>14</th>\n",
              "      <th>15</th>\n",
              "      <th>16</th>\n",
              "    </tr>\n",
              "  </thead>\n",
              "  <tbody>\n",
              "    <tr>\n",
              "      <th>0</th>\n",
              "      <td>서울</td>\n",
              "      <td>부산</td>\n",
              "      <td>대구</td>\n",
              "      <td>인천</td>\n",
              "      <td>광주</td>\n",
              "      <td>대전</td>\n",
              "      <td>울산</td>\n",
              "      <td>세종</td>\n",
              "      <td>경기</td>\n",
              "      <td>강원</td>\n",
              "      <td>충북</td>\n",
              "      <td>충남</td>\n",
              "      <td>전북</td>\n",
              "      <td>전남</td>\n",
              "      <td>경북</td>\n",
              "      <td>경남</td>\n",
              "      <td>제주</td>\n",
              "    </tr>\n",
              "    <tr>\n",
              "      <th>평균</th>\n",
              "      <td>20</td>\n",
              "      <td>13</td>\n",
              "      <td>15</td>\n",
              "      <td>20</td>\n",
              "      <td>19</td>\n",
              "      <td>16</td>\n",
              "      <td>14</td>\n",
              "      <td>18</td>\n",
              "      <td>20</td>\n",
              "      <td>14</td>\n",
              "      <td>19</td>\n",
              "      <td>23</td>\n",
              "      <td>23</td>\n",
              "      <td>14</td>\n",
              "      <td>15</td>\n",
              "      <td>13</td>\n",
              "      <td>14</td>\n",
              "    </tr>\n",
              "    <tr>\n",
              "      <th>최대</th>\n",
              "      <td>22</td>\n",
              "      <td>18</td>\n",
              "      <td>18</td>\n",
              "      <td>30</td>\n",
              "      <td>23</td>\n",
              "      <td>20</td>\n",
              "      <td>16</td>\n",
              "      <td>19</td>\n",
              "      <td>27</td>\n",
              "      <td>18</td>\n",
              "      <td>26</td>\n",
              "      <td>29</td>\n",
              "      <td>30</td>\n",
              "      <td>27</td>\n",
              "      <td>23</td>\n",
              "      <td>17</td>\n",
              "      <td>16</td>\n",
              "    </tr>\n",
              "    <tr>\n",
              "      <th>최소</th>\n",
              "      <td>16</td>\n",
              "      <td>10</td>\n",
              "      <td>11</td>\n",
              "      <td>12</td>\n",
              "      <td>15</td>\n",
              "      <td>12</td>\n",
              "      <td>11</td>\n",
              "      <td>17</td>\n",
              "      <td>13</td>\n",
              "      <td>9</td>\n",
              "      <td>14</td>\n",
              "      <td>19</td>\n",
              "      <td>14</td>\n",
              "      <td>10</td>\n",
              "      <td>8</td>\n",
              "      <td>9</td>\n",
              "      <td>11</td>\n",
              "    </tr>\n",
              "  </tbody>\n",
              "</table>\n",
              "</div>"
            ],
            "text/plain": [
              "    0   1   2   3   4   5   6   7   8   9   10  11  12  13  14  15  16\n",
              "0   서울  부산  대구  인천  광주  대전  울산  세종  경기  강원  충북  충남  전북  전남  경북  경남  제주\n",
              "평균  20  13  15  20  19  16  14  18  20  14  19  23  23  14  15  13  14\n",
              "최대  22  18  18  30  23  20  16  19  27  18  26  29  30  27  23  17  16\n",
              "최소  16  10  11  12  15  12  11  17  13   9  14  19  14  10   8   9  11"
            ]
          },
          "metadata": {
            "tags": []
          },
          "execution_count": 60
        }
      ]
    },
    {
      "cell_type": "markdown",
      "metadata": {
        "id": "fUaPuiV5rUpB"
      },
      "source": [
        ""
      ]
    },
    {
      "cell_type": "markdown",
      "metadata": {
        "id": "k48MohOerccD"
      },
      "source": [
        "### 정렬\n",
        "+ 행열 인덱스 정렬 : df.sort_index(axis=n), n생략 또는 0:행, 1:열\n",
        "+ 행렬 값 정렬 : df.sort_values()\n"
      ]
    },
    {
      "cell_type": "code",
      "metadata": {
        "id": "JWafEXHzrMMP",
        "colab": {
          "base_uri": "https://localhost:8080/",
          "height": 576
        },
        "outputId": "cc58d98f-9793-4f41-f943-70f3db7e48ec"
      },
      "source": [
        "df"
      ],
      "execution_count": 61,
      "outputs": [
        {
          "output_type": "execute_result",
          "data": {
            "text/html": [
              "<div>\n",
              "<style scoped>\n",
              "    .dataframe tbody tr th:only-of-type {\n",
              "        vertical-align: middle;\n",
              "    }\n",
              "\n",
              "    .dataframe tbody tr th {\n",
              "        vertical-align: top;\n",
              "    }\n",
              "\n",
              "    .dataframe thead th {\n",
              "        text-align: right;\n",
              "    }\n",
              "</style>\n",
              "<table border=\"1\" class=\"dataframe\">\n",
              "  <thead>\n",
              "    <tr style=\"text-align: right;\">\n",
              "      <th></th>\n",
              "      <th>0</th>\n",
              "      <th>평균</th>\n",
              "      <th>최대</th>\n",
              "      <th>최소</th>\n",
              "    </tr>\n",
              "  </thead>\n",
              "  <tbody>\n",
              "    <tr>\n",
              "      <th>0</th>\n",
              "      <td>서울</td>\n",
              "      <td>20</td>\n",
              "      <td>22</td>\n",
              "      <td>16</td>\n",
              "    </tr>\n",
              "    <tr>\n",
              "      <th>1</th>\n",
              "      <td>부산</td>\n",
              "      <td>13</td>\n",
              "      <td>18</td>\n",
              "      <td>10</td>\n",
              "    </tr>\n",
              "    <tr>\n",
              "      <th>2</th>\n",
              "      <td>대구</td>\n",
              "      <td>15</td>\n",
              "      <td>18</td>\n",
              "      <td>11</td>\n",
              "    </tr>\n",
              "    <tr>\n",
              "      <th>3</th>\n",
              "      <td>인천</td>\n",
              "      <td>20</td>\n",
              "      <td>30</td>\n",
              "      <td>12</td>\n",
              "    </tr>\n",
              "    <tr>\n",
              "      <th>4</th>\n",
              "      <td>광주</td>\n",
              "      <td>19</td>\n",
              "      <td>23</td>\n",
              "      <td>15</td>\n",
              "    </tr>\n",
              "    <tr>\n",
              "      <th>5</th>\n",
              "      <td>대전</td>\n",
              "      <td>16</td>\n",
              "      <td>20</td>\n",
              "      <td>12</td>\n",
              "    </tr>\n",
              "    <tr>\n",
              "      <th>6</th>\n",
              "      <td>울산</td>\n",
              "      <td>14</td>\n",
              "      <td>16</td>\n",
              "      <td>11</td>\n",
              "    </tr>\n",
              "    <tr>\n",
              "      <th>7</th>\n",
              "      <td>세종</td>\n",
              "      <td>18</td>\n",
              "      <td>19</td>\n",
              "      <td>17</td>\n",
              "    </tr>\n",
              "    <tr>\n",
              "      <th>8</th>\n",
              "      <td>경기</td>\n",
              "      <td>20</td>\n",
              "      <td>27</td>\n",
              "      <td>13</td>\n",
              "    </tr>\n",
              "    <tr>\n",
              "      <th>9</th>\n",
              "      <td>강원</td>\n",
              "      <td>14</td>\n",
              "      <td>18</td>\n",
              "      <td>9</td>\n",
              "    </tr>\n",
              "    <tr>\n",
              "      <th>10</th>\n",
              "      <td>충북</td>\n",
              "      <td>19</td>\n",
              "      <td>26</td>\n",
              "      <td>14</td>\n",
              "    </tr>\n",
              "    <tr>\n",
              "      <th>11</th>\n",
              "      <td>충남</td>\n",
              "      <td>23</td>\n",
              "      <td>29</td>\n",
              "      <td>19</td>\n",
              "    </tr>\n",
              "    <tr>\n",
              "      <th>12</th>\n",
              "      <td>전북</td>\n",
              "      <td>23</td>\n",
              "      <td>30</td>\n",
              "      <td>14</td>\n",
              "    </tr>\n",
              "    <tr>\n",
              "      <th>13</th>\n",
              "      <td>전남</td>\n",
              "      <td>14</td>\n",
              "      <td>27</td>\n",
              "      <td>10</td>\n",
              "    </tr>\n",
              "    <tr>\n",
              "      <th>14</th>\n",
              "      <td>경북</td>\n",
              "      <td>15</td>\n",
              "      <td>23</td>\n",
              "      <td>8</td>\n",
              "    </tr>\n",
              "    <tr>\n",
              "      <th>15</th>\n",
              "      <td>경남</td>\n",
              "      <td>13</td>\n",
              "      <td>17</td>\n",
              "      <td>9</td>\n",
              "    </tr>\n",
              "    <tr>\n",
              "      <th>16</th>\n",
              "      <td>제주</td>\n",
              "      <td>14</td>\n",
              "      <td>16</td>\n",
              "      <td>11</td>\n",
              "    </tr>\n",
              "  </tbody>\n",
              "</table>\n",
              "</div>"
            ],
            "text/plain": [
              "     0  평균  최대  최소\n",
              "0   서울  20  22  16\n",
              "1   부산  13  18  10\n",
              "2   대구  15  18  11\n",
              "3   인천  20  30  12\n",
              "4   광주  19  23  15\n",
              "5   대전  16  20  12\n",
              "6   울산  14  16  11\n",
              "7   세종  18  19  17\n",
              "8   경기  20  27  13\n",
              "9   강원  14  18   9\n",
              "10  충북  19  26  14\n",
              "11  충남  23  29  19\n",
              "12  전북  23  30  14\n",
              "13  전남  14  27  10\n",
              "14  경북  15  23   8\n",
              "15  경남  13  17   9\n",
              "16  제주  14  16  11"
            ]
          },
          "metadata": {
            "tags": []
          },
          "execution_count": 61
        }
      ]
    },
    {
      "cell_type": "code",
      "metadata": {
        "id": "Si9uXRvPrqES",
        "colab": {
          "base_uri": "https://localhost:8080/",
          "height": 576
        },
        "outputId": "4213d9c2-74c6-4923-b4ba-d4eb0ccb2497"
      },
      "source": [
        "df = df.sort_index()\n",
        "df"
      ],
      "execution_count": 62,
      "outputs": [
        {
          "output_type": "execute_result",
          "data": {
            "text/html": [
              "<div>\n",
              "<style scoped>\n",
              "    .dataframe tbody tr th:only-of-type {\n",
              "        vertical-align: middle;\n",
              "    }\n",
              "\n",
              "    .dataframe tbody tr th {\n",
              "        vertical-align: top;\n",
              "    }\n",
              "\n",
              "    .dataframe thead th {\n",
              "        text-align: right;\n",
              "    }\n",
              "</style>\n",
              "<table border=\"1\" class=\"dataframe\">\n",
              "  <thead>\n",
              "    <tr style=\"text-align: right;\">\n",
              "      <th></th>\n",
              "      <th>0</th>\n",
              "      <th>평균</th>\n",
              "      <th>최대</th>\n",
              "      <th>최소</th>\n",
              "    </tr>\n",
              "  </thead>\n",
              "  <tbody>\n",
              "    <tr>\n",
              "      <th>0</th>\n",
              "      <td>서울</td>\n",
              "      <td>20</td>\n",
              "      <td>22</td>\n",
              "      <td>16</td>\n",
              "    </tr>\n",
              "    <tr>\n",
              "      <th>1</th>\n",
              "      <td>부산</td>\n",
              "      <td>13</td>\n",
              "      <td>18</td>\n",
              "      <td>10</td>\n",
              "    </tr>\n",
              "    <tr>\n",
              "      <th>2</th>\n",
              "      <td>대구</td>\n",
              "      <td>15</td>\n",
              "      <td>18</td>\n",
              "      <td>11</td>\n",
              "    </tr>\n",
              "    <tr>\n",
              "      <th>3</th>\n",
              "      <td>인천</td>\n",
              "      <td>20</td>\n",
              "      <td>30</td>\n",
              "      <td>12</td>\n",
              "    </tr>\n",
              "    <tr>\n",
              "      <th>4</th>\n",
              "      <td>광주</td>\n",
              "      <td>19</td>\n",
              "      <td>23</td>\n",
              "      <td>15</td>\n",
              "    </tr>\n",
              "    <tr>\n",
              "      <th>5</th>\n",
              "      <td>대전</td>\n",
              "      <td>16</td>\n",
              "      <td>20</td>\n",
              "      <td>12</td>\n",
              "    </tr>\n",
              "    <tr>\n",
              "      <th>6</th>\n",
              "      <td>울산</td>\n",
              "      <td>14</td>\n",
              "      <td>16</td>\n",
              "      <td>11</td>\n",
              "    </tr>\n",
              "    <tr>\n",
              "      <th>7</th>\n",
              "      <td>세종</td>\n",
              "      <td>18</td>\n",
              "      <td>19</td>\n",
              "      <td>17</td>\n",
              "    </tr>\n",
              "    <tr>\n",
              "      <th>8</th>\n",
              "      <td>경기</td>\n",
              "      <td>20</td>\n",
              "      <td>27</td>\n",
              "      <td>13</td>\n",
              "    </tr>\n",
              "    <tr>\n",
              "      <th>9</th>\n",
              "      <td>강원</td>\n",
              "      <td>14</td>\n",
              "      <td>18</td>\n",
              "      <td>9</td>\n",
              "    </tr>\n",
              "    <tr>\n",
              "      <th>10</th>\n",
              "      <td>충북</td>\n",
              "      <td>19</td>\n",
              "      <td>26</td>\n",
              "      <td>14</td>\n",
              "    </tr>\n",
              "    <tr>\n",
              "      <th>11</th>\n",
              "      <td>충남</td>\n",
              "      <td>23</td>\n",
              "      <td>29</td>\n",
              "      <td>19</td>\n",
              "    </tr>\n",
              "    <tr>\n",
              "      <th>12</th>\n",
              "      <td>전북</td>\n",
              "      <td>23</td>\n",
              "      <td>30</td>\n",
              "      <td>14</td>\n",
              "    </tr>\n",
              "    <tr>\n",
              "      <th>13</th>\n",
              "      <td>전남</td>\n",
              "      <td>14</td>\n",
              "      <td>27</td>\n",
              "      <td>10</td>\n",
              "    </tr>\n",
              "    <tr>\n",
              "      <th>14</th>\n",
              "      <td>경북</td>\n",
              "      <td>15</td>\n",
              "      <td>23</td>\n",
              "      <td>8</td>\n",
              "    </tr>\n",
              "    <tr>\n",
              "      <th>15</th>\n",
              "      <td>경남</td>\n",
              "      <td>13</td>\n",
              "      <td>17</td>\n",
              "      <td>9</td>\n",
              "    </tr>\n",
              "    <tr>\n",
              "      <th>16</th>\n",
              "      <td>제주</td>\n",
              "      <td>14</td>\n",
              "      <td>16</td>\n",
              "      <td>11</td>\n",
              "    </tr>\n",
              "  </tbody>\n",
              "</table>\n",
              "</div>"
            ],
            "text/plain": [
              "     0  평균  최대  최소\n",
              "0   서울  20  22  16\n",
              "1   부산  13  18  10\n",
              "2   대구  15  18  11\n",
              "3   인천  20  30  12\n",
              "4   광주  19  23  15\n",
              "5   대전  16  20  12\n",
              "6   울산  14  16  11\n",
              "7   세종  18  19  17\n",
              "8   경기  20  27  13\n",
              "9   강원  14  18   9\n",
              "10  충북  19  26  14\n",
              "11  충남  23  29  19\n",
              "12  전북  23  30  14\n",
              "13  전남  14  27  10\n",
              "14  경북  15  23   8\n",
              "15  경남  13  17   9\n",
              "16  제주  14  16  11"
            ]
          },
          "metadata": {
            "tags": []
          },
          "execution_count": 62
        }
      ]
    },
    {
      "cell_type": "code",
      "metadata": {
        "id": "jods3PC-r2pY",
        "colab": {
          "base_uri": "https://localhost:8080/",
          "height": 322
        },
        "outputId": "25e12285-d2d7-4437-e9ae-2ee93ef7f650"
      },
      "source": [
        "df.sort_values('주간평균')"
      ],
      "execution_count": 63,
      "outputs": [
        {
          "output_type": "error",
          "ename": "KeyError",
          "evalue": "ignored",
          "traceback": [
            "\u001b[0;31m---------------------------------------------------------------------------\u001b[0m",
            "\u001b[0;31mKeyError\u001b[0m                                  Traceback (most recent call last)",
            "\u001b[0;32m<ipython-input-63-e1585fa677d3>\u001b[0m in \u001b[0;36m<module>\u001b[0;34m()\u001b[0m\n\u001b[0;32m----> 1\u001b[0;31m \u001b[0mdf\u001b[0m\u001b[0;34m.\u001b[0m\u001b[0msort_values\u001b[0m\u001b[0;34m(\u001b[0m\u001b[0;34m'주간평균'\u001b[0m\u001b[0;34m)\u001b[0m\u001b[0;34m\u001b[0m\u001b[0;34m\u001b[0m\u001b[0m\n\u001b[0m",
            "\u001b[0;32m/usr/local/lib/python3.7/dist-packages/pandas/core/frame.py\u001b[0m in \u001b[0;36msort_values\u001b[0;34m(self, by, axis, ascending, inplace, kind, na_position, ignore_index, key)\u001b[0m\n\u001b[1;32m   5296\u001b[0m \u001b[0;34m\u001b[0m\u001b[0m\n\u001b[1;32m   5297\u001b[0m             \u001b[0mby\u001b[0m \u001b[0;34m=\u001b[0m \u001b[0mby\u001b[0m\u001b[0;34m[\u001b[0m\u001b[0;36m0\u001b[0m\u001b[0;34m]\u001b[0m\u001b[0;34m\u001b[0m\u001b[0;34m\u001b[0m\u001b[0m\n\u001b[0;32m-> 5298\u001b[0;31m             \u001b[0mk\u001b[0m \u001b[0;34m=\u001b[0m \u001b[0mself\u001b[0m\u001b[0;34m.\u001b[0m\u001b[0m_get_label_or_level_values\u001b[0m\u001b[0;34m(\u001b[0m\u001b[0mby\u001b[0m\u001b[0;34m,\u001b[0m \u001b[0maxis\u001b[0m\u001b[0;34m=\u001b[0m\u001b[0maxis\u001b[0m\u001b[0;34m)\u001b[0m\u001b[0;34m\u001b[0m\u001b[0;34m\u001b[0m\u001b[0m\n\u001b[0m\u001b[1;32m   5299\u001b[0m \u001b[0;34m\u001b[0m\u001b[0m\n\u001b[1;32m   5300\u001b[0m             \u001b[0;31m# need to rewrap column in Series to apply key function\u001b[0m\u001b[0;34m\u001b[0m\u001b[0;34m\u001b[0m\u001b[0;34m\u001b[0m\u001b[0m\n",
            "\u001b[0;32m/usr/local/lib/python3.7/dist-packages/pandas/core/generic.py\u001b[0m in \u001b[0;36m_get_label_or_level_values\u001b[0;34m(self, key, axis)\u001b[0m\n\u001b[1;32m   1561\u001b[0m             \u001b[0mvalues\u001b[0m \u001b[0;34m=\u001b[0m \u001b[0mself\u001b[0m\u001b[0;34m.\u001b[0m\u001b[0maxes\u001b[0m\u001b[0;34m[\u001b[0m\u001b[0maxis\u001b[0m\u001b[0;34m]\u001b[0m\u001b[0;34m.\u001b[0m\u001b[0mget_level_values\u001b[0m\u001b[0;34m(\u001b[0m\u001b[0mkey\u001b[0m\u001b[0;34m)\u001b[0m\u001b[0;34m.\u001b[0m\u001b[0m_values\u001b[0m\u001b[0;34m\u001b[0m\u001b[0;34m\u001b[0m\u001b[0m\n\u001b[1;32m   1562\u001b[0m         \u001b[0;32melse\u001b[0m\u001b[0;34m:\u001b[0m\u001b[0;34m\u001b[0m\u001b[0;34m\u001b[0m\u001b[0m\n\u001b[0;32m-> 1563\u001b[0;31m             \u001b[0;32mraise\u001b[0m \u001b[0mKeyError\u001b[0m\u001b[0;34m(\u001b[0m\u001b[0mkey\u001b[0m\u001b[0;34m)\u001b[0m\u001b[0;34m\u001b[0m\u001b[0;34m\u001b[0m\u001b[0m\n\u001b[0m\u001b[1;32m   1564\u001b[0m \u001b[0;34m\u001b[0m\u001b[0m\n\u001b[1;32m   1565\u001b[0m         \u001b[0;31m# Check for duplicates\u001b[0m\u001b[0;34m\u001b[0m\u001b[0;34m\u001b[0m\u001b[0;34m\u001b[0m\u001b[0m\n",
            "\u001b[0;31mKeyError\u001b[0m: '주간평균'"
          ]
        }
      ]
    },
    {
      "cell_type": "markdown",
      "metadata": {
        "id": "jrClfnlx3yDz"
      },
      "source": [
        "### 문자열 처리\n",
        "* df['열명'].str"
      ]
    },
    {
      "cell_type": "code",
      "metadata": {
        "id": "voY9rfxo0hk5"
      },
      "source": [
        "data = pd.read_excel('/content/drive/MyDrive/파이썬특강/python2021/data/표준분류 정보_컴퓨터.xlsx')\n",
        "data.info()"
      ],
      "execution_count": null,
      "outputs": []
    },
    {
      "cell_type": "code",
      "metadata": {
        "id": "iXCoaJwYuXdw"
      },
      "source": [
        "s = '울산과학대학교'\n",
        "s[:-3]"
      ],
      "execution_count": null,
      "outputs": []
    },
    {
      "cell_type": "code",
      "metadata": {
        "id": "yhVqETkiuSkc"
      },
      "source": [
        "data['대학명'].str[:-3]"
      ],
      "execution_count": null,
      "outputs": []
    },
    {
      "cell_type": "code",
      "metadata": {
        "id": "pKh5MDmpvLP6"
      },
      "source": [
        "data.head()"
      ],
      "execution_count": null,
      "outputs": []
    },
    {
      "cell_type": "code",
      "metadata": {
        "id": "sqvTfvWM4S8l"
      },
      "source": [
        "data['대학명'] = data['대학명'].str[:-3]\n",
        "data.head()"
      ],
      "execution_count": null,
      "outputs": []
    },
    {
      "cell_type": "code",
      "metadata": {
        "id": "ILk8E9vdzBbm"
      },
      "source": [
        "my = data[(data['지역'] == '서울 ') | (data['지역'] == '부산') | (data['지역']=='울산')]\n",
        "my"
      ],
      "execution_count": null,
      "outputs": []
    },
    {
      "cell_type": "code",
      "metadata": {
        "id": "2x9N0uqzyL7d"
      },
      "source": [
        "seoul = data[data['지역']=='울산']\n",
        "seoul.info()"
      ],
      "execution_count": null,
      "outputs": []
    },
    {
      "cell_type": "markdown",
      "metadata": {
        "id": "GwbwuSVKy7iL"
      },
      "source": [
        "### 그룹화\n",
        "* 데이터를 그룹별로 분류\n",
        "* df.groupby(인수)\n",
        "  + 열 또는 열의 리스트\n",
        "  + 행 인덱스\n",
        "* 그룹 연산 메소드\n",
        "  + size, count: 그룹 데이터의 갯수\n",
        "  + mean, median, min, max: 그룹 데이터의 평균, 중앙값, 최소, 최대\n",
        "  + sum, prod, std, var, quantile : 그룹 데이터의 합계, 곱, 표준편차, 분산, 사분위수\n",
        "  + first, last: 그룹 데이터 중 가장 첫번째 데이터와 가장 나중 데이터"
      ]
    },
    {
      "cell_type": "code",
      "metadata": {
        "id": "M1nAH61E0prf",
        "colab": {
          "base_uri": "https://localhost:8080/",
          "height": 607
        },
        "outputId": "baf51fb4-f9bb-4331-8105-c2942288b1f8"
      },
      "source": [
        "datag = data.groupby('지역')[['대학명']].count()\n",
        "datag.sort_values('대학명', ascending=False)"
      ],
      "execution_count": 83,
      "outputs": [
        {
          "output_type": "execute_result",
          "data": {
            "text/html": [
              "<div>\n",
              "<style scoped>\n",
              "    .dataframe tbody tr th:only-of-type {\n",
              "        vertical-align: middle;\n",
              "    }\n",
              "\n",
              "    .dataframe tbody tr th {\n",
              "        vertical-align: top;\n",
              "    }\n",
              "\n",
              "    .dataframe thead th {\n",
              "        text-align: right;\n",
              "    }\n",
              "</style>\n",
              "<table border=\"1\" class=\"dataframe\">\n",
              "  <thead>\n",
              "    <tr style=\"text-align: right;\">\n",
              "      <th></th>\n",
              "      <th>대학명</th>\n",
              "    </tr>\n",
              "    <tr>\n",
              "      <th>지역</th>\n",
              "      <th></th>\n",
              "    </tr>\n",
              "  </thead>\n",
              "  <tbody>\n",
              "    <tr>\n",
              "      <th>서울</th>\n",
              "      <td>130</td>\n",
              "    </tr>\n",
              "    <tr>\n",
              "      <th>경기</th>\n",
              "      <td>98</td>\n",
              "    </tr>\n",
              "    <tr>\n",
              "      <th>부산</th>\n",
              "      <td>39</td>\n",
              "    </tr>\n",
              "    <tr>\n",
              "      <th>충남</th>\n",
              "      <td>34</td>\n",
              "    </tr>\n",
              "    <tr>\n",
              "      <th>경북</th>\n",
              "      <td>31</td>\n",
              "    </tr>\n",
              "    <tr>\n",
              "      <th>대전</th>\n",
              "      <td>29</td>\n",
              "    </tr>\n",
              "    <tr>\n",
              "      <th>강원</th>\n",
              "      <td>27</td>\n",
              "    </tr>\n",
              "    <tr>\n",
              "      <th>전북</th>\n",
              "      <td>26</td>\n",
              "    </tr>\n",
              "    <tr>\n",
              "      <th>경남</th>\n",
              "      <td>26</td>\n",
              "    </tr>\n",
              "    <tr>\n",
              "      <th>충북</th>\n",
              "      <td>25</td>\n",
              "    </tr>\n",
              "    <tr>\n",
              "      <th>전남</th>\n",
              "      <td>21</td>\n",
              "    </tr>\n",
              "    <tr>\n",
              "      <th>대구</th>\n",
              "      <td>19</td>\n",
              "    </tr>\n",
              "    <tr>\n",
              "      <th>광주</th>\n",
              "      <td>18</td>\n",
              "    </tr>\n",
              "    <tr>\n",
              "      <th>인천</th>\n",
              "      <td>15</td>\n",
              "    </tr>\n",
              "    <tr>\n",
              "      <th>울산</th>\n",
              "      <td>6</td>\n",
              "    </tr>\n",
              "    <tr>\n",
              "      <th>제주</th>\n",
              "      <td>6</td>\n",
              "    </tr>\n",
              "    <tr>\n",
              "      <th>세종</th>\n",
              "      <td>3</td>\n",
              "    </tr>\n",
              "  </tbody>\n",
              "</table>\n",
              "</div>"
            ],
            "text/plain": [
              "    대학명\n",
              "지역     \n",
              "서울  130\n",
              "경기   98\n",
              "부산   39\n",
              "충남   34\n",
              "경북   31\n",
              "대전   29\n",
              "강원   27\n",
              "전북   26\n",
              "경남   26\n",
              "충북   25\n",
              "전남   21\n",
              "대구   19\n",
              "광주   18\n",
              "인천   15\n",
              "울산    6\n",
              "제주    6\n",
              "세종    3"
            ]
          },
          "metadata": {
            "tags": []
          },
          "execution_count": 83
        }
      ]
    },
    {
      "cell_type": "code",
      "metadata": {
        "id": "kYVTn3OC1jJz"
      },
      "source": [
        "pusan.describe()"
      ],
      "execution_count": null,
      "outputs": []
    },
    {
      "cell_type": "code",
      "metadata": {
        "id": "6ZuozRuq01Xv"
      },
      "source": [
        "pusan = pd.read_csv('/content/drive/MyDrive/파이썬특강/python2021/data/부산대1821.csv',engine='python' ,encoding='cp949')\n",
        "pusan"
      ],
      "execution_count": null,
      "outputs": []
    },
    {
      "cell_type": "code",
      "metadata": {
        "id": "nGPIlD9D1wAA"
      },
      "source": [
        "pusan.groupby('학과').mean().loc[:,:'추합']"
      ],
      "execution_count": null,
      "outputs": []
    },
    {
      "cell_type": "markdown",
      "metadata": {
        "id": "wHgv7iyx4t1D"
      },
      "source": [
        "### 시계열 자료\n",
        "* **pd.to_datetime()** : 날짜/시간을 나타내는 문자열을 자동으로 datetime 자료형으로 변환\n",
        "* **dt 접근자** : datetime 자료형 시리즈에는 dt 접근자가 있어 datetime 자료형이 가진 몇가지 유용한 속성과 메서드를 사용\n",
        "  +  year, month, day, weekday 등의 속성을 이용하면 년, 월, 일, 요일 정보 추출\n",
        "\n",
        "dt 접근자 | 내용 \n",
        "-------------------|------------------\n",
        ".dt.date         | YYYY-MM-DD(문자)\n",
        ".dt.year         | 연(4자리숫자)\n",
        ".dt.month        | 월(숫자)\n",
        ".dt.month_name() | 월(문자)\n",
        ".dt.day          | 일(숫자)\n",
        ".dt.time         | HH:MM:SS(문자)\n",
        ".dt.hour         | 시(숫자)\n",
        ".dt.minute       | 분(숫자)\n",
        ".dt.second       | 초(숫자)\n",
        ".dt.quarter       | 분기(숫자)\n",
        ".dt.day_name()  | 요일이름(문자)  \n",
        ".dt.weekday       | 요일숫자(0-월, 1-화) (=dayofweek)\n",
        ".dt.weekofyear    | 연 기준 몇주째(숫자) (=week)\n",
        ".dt.dayofyear     | 연 기준 몇일째(숫자)\n",
        ".dt.days_in_month | 월 일수(숫자) (=daysinmonth)"
      ]
    },
    {
      "cell_type": "code",
      "metadata": {
        "id": "7sfY4A4g5fWi"
      },
      "source": [
        "data = pd.read_csv('/content/drive/MyDrive/파이썬특강/python2021/data/air.csv', encoding='cp949')\n",
        "data.info()"
      ],
      "execution_count": null,
      "outputs": []
    },
    {
      "cell_type": "code",
      "metadata": {
        "id": "XXq4ucab5wmr"
      },
      "source": [
        "data.head()"
      ],
      "execution_count": null,
      "outputs": []
    },
    {
      "cell_type": "code",
      "metadata": {
        "id": "S9Cx0RbM502p"
      },
      "source": [
        "data['day'] = data['날짜'].str[:-3]\n",
        "data['day'] = pd.to_datetime(data['day'])\n",
        "data.info()\n",
        "data.head()"
      ],
      "execution_count": null,
      "outputs": []
    },
    {
      "cell_type": "code",
      "metadata": {
        "id": "g_FOqiZJ6S1l"
      },
      "source": [
        "data['요일'] = data['day'].dt.day_name()\n",
        "data"
      ],
      "execution_count": null,
      "outputs": []
    },
    {
      "cell_type": "markdown",
      "metadata": {
        "id": "AtwRNNPrsr4P"
      },
      "source": [
        "\n",
        "\n",
        "---\n",
        "## 해결문제 \n",
        "\n",
        "\n",
        "---\n",
        "\n",
        "대학알리미 사이트에서 표준분류 정보 검색을 통해 '컴퓨터'관련 학과를 검색한 정보를 받아서 자료를 분석하시오.\n",
        "\n",
        "1.'대학명','학과명', '지역', '설립유형', '표준분류계열(대)'\n",
        "\n",
        "2.부산지역의 국립 대학 추출\n"
      ]
    },
    {
      "cell_type": "code",
      "metadata": {
        "colab": {
          "base_uri": "https://localhost:8080/",
          "height": 419
        },
        "id": "m8qybgPn4bxt",
        "outputId": "715243a7-d2c9-4bbd-9b1b-914b2291f7a5"
      },
      "source": [
        "data = pd.read_excel('/content/drive/MyDrive/파이썬특강/python2021/data/컴공.xlsx')\n",
        "data = data.loc[:,['대학명','학과명','지역','설립유형','표준분류계열(대)']]\n",
        "data"
      ],
      "execution_count": 86,
      "outputs": [
        {
          "output_type": "execute_result",
          "data": {
            "text/html": [
              "<div>\n",
              "<style scoped>\n",
              "    .dataframe tbody tr th:only-of-type {\n",
              "        vertical-align: middle;\n",
              "    }\n",
              "\n",
              "    .dataframe tbody tr th {\n",
              "        vertical-align: top;\n",
              "    }\n",
              "\n",
              "    .dataframe thead th {\n",
              "        text-align: right;\n",
              "    }\n",
              "</style>\n",
              "<table border=\"1\" class=\"dataframe\">\n",
              "  <thead>\n",
              "    <tr style=\"text-align: right;\">\n",
              "      <th></th>\n",
              "      <th>대학명</th>\n",
              "      <th>학과명</th>\n",
              "      <th>지역</th>\n",
              "      <th>설립유형</th>\n",
              "      <th>표준분류계열(대)</th>\n",
              "    </tr>\n",
              "  </thead>\n",
              "  <tbody>\n",
              "    <tr>\n",
              "      <th>0</th>\n",
              "      <td>가천대학교</td>\n",
              "      <td>컴퓨터공학과</td>\n",
              "      <td>경기</td>\n",
              "      <td>사립</td>\n",
              "      <td>공학</td>\n",
              "    </tr>\n",
              "    <tr>\n",
              "      <th>1</th>\n",
              "      <td>가톨릭대학교</td>\n",
              "      <td>미디어기술콘텐츠학과</td>\n",
              "      <td>경기</td>\n",
              "      <td>사립</td>\n",
              "      <td>공학</td>\n",
              "    </tr>\n",
              "    <tr>\n",
              "      <th>2</th>\n",
              "      <td>가톨릭대학교</td>\n",
              "      <td>모바일유비쿼터스융복합전공</td>\n",
              "      <td>경기</td>\n",
              "      <td>사립</td>\n",
              "      <td>공학</td>\n",
              "    </tr>\n",
              "    <tr>\n",
              "      <th>3</th>\n",
              "      <td>가톨릭대학교</td>\n",
              "      <td>컴퓨터정보공학부</td>\n",
              "      <td>경기</td>\n",
              "      <td>사립</td>\n",
              "      <td>공학</td>\n",
              "    </tr>\n",
              "    <tr>\n",
              "      <th>4</th>\n",
              "      <td>강릉원주대학교</td>\n",
              "      <td>멀티미디어공학과</td>\n",
              "      <td>강원</td>\n",
              "      <td>국립</td>\n",
              "      <td>공학</td>\n",
              "    </tr>\n",
              "    <tr>\n",
              "      <th>...</th>\n",
              "      <td>...</td>\n",
              "      <td>...</td>\n",
              "      <td>...</td>\n",
              "      <td>...</td>\n",
              "      <td>...</td>\n",
              "    </tr>\n",
              "    <tr>\n",
              "      <th>548</th>\n",
              "      <td>호서대학교 대학원</td>\n",
              "      <td>컴퓨터공학과</td>\n",
              "      <td>충남</td>\n",
              "      <td>사립</td>\n",
              "      <td>공학</td>\n",
              "    </tr>\n",
              "    <tr>\n",
              "      <th>549</th>\n",
              "      <td>호서대학교 대학원</td>\n",
              "      <td>컴퓨터공학과(학연산협동과정)</td>\n",
              "      <td>충남</td>\n",
              "      <td>사립</td>\n",
              "      <td>공학</td>\n",
              "    </tr>\n",
              "    <tr>\n",
              "      <th>550</th>\n",
              "      <td>홍익대학교 대학원</td>\n",
              "      <td>소프트웨어융합학과</td>\n",
              "      <td>세종</td>\n",
              "      <td>사립</td>\n",
              "      <td>공학</td>\n",
              "    </tr>\n",
              "    <tr>\n",
              "      <th>551</th>\n",
              "      <td>홍익대학교 대학원</td>\n",
              "      <td>컴퓨터공학과</td>\n",
              "      <td>서울</td>\n",
              "      <td>사립</td>\n",
              "      <td>공학</td>\n",
              "    </tr>\n",
              "    <tr>\n",
              "      <th>552</th>\n",
              "      <td>과학기술연합대학원대학교</td>\n",
              "      <td>데이터 및 HPC과학</td>\n",
              "      <td>대전</td>\n",
              "      <td>기타</td>\n",
              "      <td>공학</td>\n",
              "    </tr>\n",
              "  </tbody>\n",
              "</table>\n",
              "<p>553 rows × 5 columns</p>\n",
              "</div>"
            ],
            "text/plain": [
              "              대학명              학과명  지역 설립유형 표준분류계열(대)\n",
              "0           가천대학교           컴퓨터공학과  경기   사립        공학\n",
              "1          가톨릭대학교       미디어기술콘텐츠학과  경기   사립        공학\n",
              "2          가톨릭대학교    모바일유비쿼터스융복합전공  경기   사립        공학\n",
              "3          가톨릭대학교         컴퓨터정보공학부  경기   사립        공학\n",
              "4         강릉원주대학교         멀티미디어공학과  강원   국립        공학\n",
              "..            ...              ...  ..  ...       ...\n",
              "548     호서대학교 대학원           컴퓨터공학과  충남   사립        공학\n",
              "549     호서대학교 대학원  컴퓨터공학과(학연산협동과정)  충남   사립        공학\n",
              "550     홍익대학교 대학원        소프트웨어융합학과  세종   사립        공학\n",
              "551     홍익대학교 대학원           컴퓨터공학과  서울   사립        공학\n",
              "552  과학기술연합대학원대학교      데이터 및 HPC과학  대전   기타        공학\n",
              "\n",
              "[553 rows x 5 columns]"
            ]
          },
          "metadata": {
            "tags": []
          },
          "execution_count": 86
        }
      ]
    },
    {
      "cell_type": "code",
      "metadata": {
        "colab": {
          "base_uri": "https://localhost:8080/",
          "height": 142
        },
        "id": "ovcV4pXJ_ch_",
        "outputId": "14144224-dadd-4eda-efd5-4e6aa1d139bd"
      },
      "source": [
        "seoul = data[(data['지역']=='서울') & (data['설립유형']=='국립')]\n",
        "seoul.loc[:,['대학명','지역','설립유형']]"
      ],
      "execution_count": 85,
      "outputs": [
        {
          "output_type": "execute_result",
          "data": {
            "text/html": [
              "<div>\n",
              "<style scoped>\n",
              "    .dataframe tbody tr th:only-of-type {\n",
              "        vertical-align: middle;\n",
              "    }\n",
              "\n",
              "    .dataframe tbody tr th {\n",
              "        vertical-align: top;\n",
              "    }\n",
              "\n",
              "    .dataframe thead th {\n",
              "        text-align: right;\n",
              "    }\n",
              "</style>\n",
              "<table border=\"1\" class=\"dataframe\">\n",
              "  <thead>\n",
              "    <tr style=\"text-align: right;\">\n",
              "      <th></th>\n",
              "      <th>대학명</th>\n",
              "      <th>지역</th>\n",
              "      <th>설립유형</th>\n",
              "    </tr>\n",
              "  </thead>\n",
              "  <tbody>\n",
              "    <tr>\n",
              "      <th>114</th>\n",
              "      <td>서울과학기술대학교</td>\n",
              "      <td>서울</td>\n",
              "      <td>국립</td>\n",
              "    </tr>\n",
              "    <tr>\n",
              "      <th>224</th>\n",
              "      <td>한국방송통신대학교</td>\n",
              "      <td>서울</td>\n",
              "      <td>국립</td>\n",
              "    </tr>\n",
              "    <tr>\n",
              "      <th>436</th>\n",
              "      <td>서울과학기술대학교 일반대학원</td>\n",
              "      <td>서울</td>\n",
              "      <td>국립</td>\n",
              "    </tr>\n",
              "  </tbody>\n",
              "</table>\n",
              "</div>"
            ],
            "text/plain": [
              "                 대학명  지역 설립유형\n",
              "114        서울과학기술대학교  서울   국립\n",
              "224        한국방송통신대학교  서울   국립\n",
              "436  서울과학기술대학교 일반대학원  서울   국립"
            ]
          },
          "metadata": {
            "tags": []
          },
          "execution_count": 85
        }
      ]
    }
  ]
}